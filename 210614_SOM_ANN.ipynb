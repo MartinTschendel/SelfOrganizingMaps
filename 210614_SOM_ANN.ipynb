{
  "nbformat": 4,
  "nbformat_minor": 0,
  "metadata": {
    "colab": {
      "name": "210614_SOM_ANN.ipynb",
      "provenance": [],
      "collapsed_sections": []
    },
    "kernelspec": {
      "name": "python3",
      "display_name": "Python 3"
    }
  },
  "cells": [
    {
      "cell_type": "code",
      "metadata": {
        "id": "1KB28WUso0Bj",
        "colab": {
          "base_uri": "https://localhost:8080/",
          "height": 287
        },
        "outputId": "c3d00409-176d-421c-90ee-3b0b89c34304"
      },
      "source": [
        "#Part 1 - Identify Frauds with Self Organizing Man\n",
        "\n",
        "!pip install MiniSom\n",
        "\n",
        "import numpy as np\n",
        "import pandas as pd\n",
        "import matplotlib.pyplot as plt\n",
        "\n",
        "dataset = pd.read_csv('Credit_Card_Applications.csv')\n",
        "#create 2 subsets\n",
        "#X means: take all line and all columns, except the last one\n",
        "X = dataset.iloc[:, :-1].values\n",
        "y = dataset.iloc[:, -1].values\n",
        "\n",
        "#do normalization\n",
        "#get features with values between 0 and 1\n",
        "from sklearn.preprocessing import MinMaxScaler\n",
        "sc = MinMaxScaler(feature_range = (0,1))\n",
        "#fit sc object to X\n",
        "X = sc.fit_transform(X)\n",
        "\n",
        "from minisom import MiniSom\n",
        "#create an object of the above class\n",
        "#the training is just done with X, not with y\n",
        "\n",
        "#first 2 parameters are: 10, 10 (size of the grid)\n",
        "#then comes input_len (number of features in dataset X)\n",
        "#sigma: radius of the different neiborhoods in the grid\n",
        "#learning_rate: how much the weights are updated during each iteration\n",
        "\n",
        "som = MiniSom(x=10, y=10, input_len=15, sigma=1.0, learning_rate=0.5)\n",
        "\n",
        "#initialize the weights\n",
        "som.random_weights_init(X)\n",
        "#specify number of training iterations\n",
        "som.train_random(data = X, num_iteration = 100)\n",
        "\n",
        "#the grid will contain the final winning nodes\n",
        "#for each of these nodes\n",
        "#we will get the MID (mean interneuron distance)\n",
        "#the higher the MID, the more far away the node from its neighbors\n",
        "#high distance means: outlier (most probably fraud)\n",
        "\n",
        "#the larger the MID, the more white is the box\n",
        "from pylab import bone, pcolor, colorbar, plot, show\n",
        "bone()\n",
        "#get mean distances\n",
        "#'T' means: get the transpose\n",
        "pcolor(som.distance_map().T)\n",
        "\n",
        "#add a legend\n",
        "colorbar()\n",
        "\n",
        "#add markers (got approval (green circles) from bank or not (red circles))\n",
        "#'o' means circle\n",
        "#'s' means square\n",
        "markers = ['o', 's']\n",
        "colors = ['r', 'g']\n",
        "\n",
        "#loop over all customers\n",
        "#'i' stands for the indexes (rows) in the database\n",
        "#'x' stands for the different vectors of each index (customer)\n",
        "for i, x in enumerate(X):\n",
        "  #get the winning node of first customer\n",
        "  w = som.winner(x)\n",
        "  #place the marker on the winning node\n",
        "  #w[0] and w[1] are the coordinates of the winning node\n",
        "  #' + 0.5' puts it in the middle of the square\n",
        "  plot(w[0] + 0.5,\n",
        "       w[1] + 0.5,\n",
        "       #take the info if customer got approval or not\n",
        "       markers[y[i]],\n",
        "       #only add color to the edge of the marker\n",
        "       markeredgecolor = colors[y[i]],\n",
        "       markerfacecolor = 'None',\n",
        "       markersize = 10,\n",
        "       markeredgewidth = 2)\n",
        "show()\n",
        "\n"
      ],
      "execution_count": 70,
      "outputs": [
        {
          "output_type": "stream",
          "text": [
            "Requirement already satisfied: MiniSom in /usr/local/lib/python3.7/dist-packages (2.2.9)\n"
          ],
          "name": "stdout"
        },
        {
          "output_type": "display_data",
          "data": {
            "image/png": "[encoded data removed]",
            "text/plain": [
              "<Figure size 432x288 with 2 Axes>"
            ]
          },
          "metadata": {
            "tags": [],
            "needs_background": "light"
          }
        }
      ]
    },
    {
      "cell_type": "code",
      "metadata": {
        "id": "jJ5E-LIC9yhV"
      },
      "source": [
        "#identify outliers manually/optically\n",
        "#mappings_1 = som.win_map(X)\n",
        "#frauds_1 = np.concatenate((mappings_1[(9,2)], mappings_1[(9,3)]), axis=0)\n",
        "#frauds_1 = sc.inverse_transform(frauds_1)"
      ],
      "execution_count": 53,
      "outputs": []
    },
    {
      "cell_type": "code",
      "metadata": {
        "colab": {
          "base_uri": "https://localhost:8080/"
        },
        "id": "wLpAMtC37Ze2",
        "outputId": "bf7c80de-6e0f-45a3-9923-14d3911049dc"
      },
      "source": [
        "# Finding the outliers (frauds) (white spots on the SOM)\n",
        "mappings = som.win_map(X)\n",
        "arr = np.where(som.distance_map().T>0.95)\n",
        "zipped = [tuple(t) for t in zip(arr[1],arr[0])]\n",
        "frauds = []\n",
        "for i in zipped:\n",
        "    x = mappings[i]\n",
        "    if len(x) != 0:\n",
        "        frauds.append(x)\n",
        "frauds = np.concatenate(frauds,axis = 0)\n",
        "frauds = sc.inverse_transform(frauds)\n",
        "\n",
        "#Part 2 - Going from Unsupervised to Supervised Deep Learning\n",
        "\n",
        "#create the matrix of features\n",
        "#we don't need the customerID\n",
        "#we include last column 'Class' (tells if application was approved or not)\n",
        "customers = dataset.iloc[:, 1:].values\n",
        "\n",
        "#create dependent variable \n",
        "#--> 1: there was fraud\n",
        "#--> 0: there was no fraud\n",
        "\n",
        "#extract the customerIDs of the list 'frauds'\n",
        "#initialize a vector with 0's \n",
        "#we call the independent variable 'is_fraud'\n",
        "is_fraud = np.zeros(len(dataset))\n",
        "    \n",
        "#change those 0's to 1's, where we have customers, who potentially cheated\n",
        "#all those customerIDs get a 1, that also appear in the fraud list\n",
        "for i in range(len(dataset)):\n",
        "  #the 0 relates to the customer column\n",
        "  if dataset.iloc[i,0] in frauds:\n",
        "    is_fraud[i] = 1\n",
        "\n",
        "from sklearn.preprocessing import StandardScaler\n",
        "sc = StandardScaler()\n",
        "customers = sc.fit_transform(customers)\n",
        "\n",
        "#initialize and train the ANN\n",
        "\n",
        "import tensorflow as tf\n",
        "from keras.models import Sequential\n",
        "from keras.layers import Dense\n",
        "\n",
        "classifier = Sequential()\n",
        "\n",
        "#'input_dim' is the number of features\n",
        "classifier.add(Dense(units=2, kernel_initializer='uniform', activation='relu', input_dim=15))\n",
        "classifier.add(Dense(units=1, kernel_initializer='uniform', activation='sigmoid'))\n",
        "\n",
        "classifier.compile(optimizer = 'adam', loss = 'binary_crossentropy', metrics = ['accuracy'])\n",
        "\n",
        "#fitting ANN to Training set\n",
        "#'is_fraud' is our dependent variable\n",
        "classifier.fit(customers, is_fraud, batch_size = 1, epochs = 2)\n",
        "\n",
        "#predict probabilities of frauds\n",
        "#for each customer, we predict the probability that the customer cheated\n",
        "#with its application\n",
        "y_pred = classifier.predict(customers)\n",
        "\n",
        "#add the customer IDs to the prediction array\n",
        "#the expression '0:1' selects the customerID but also changes the array from a 1D to a 2D array\n",
        "#axis=1 will make a horizontal concatenation\n",
        "y_pred = np.concatenate((dataset.iloc[:,0:1].values, y_pred), axis=1)\n",
        "\n",
        "#sort customers according to their cheating probability\n",
        "y_pred = y_pred[y_pred[:,1].argsort()]\n",
        "y_pred"
      ],
      "execution_count": 71,
      "outputs": [
        {
          "output_type": "stream",
          "text": [
            "Epoch 1/2\n",
            "690/690 [==============================] - 1s 977us/step - loss: 0.5782 - accuracy: 0.9772\n",
            "Epoch 2/2\n",
            "690/690 [==============================] - 1s 1ms/step - loss: 0.1368 - accuracy: 0.9902\n"
          ],
          "name": "stdout"
        },
        {
          "output_type": "execute_result",
          "data": {
            "text/plain": [
              "array([[1.56548590e+07, 5.31232357e-03],\n",
              "       [1.57250280e+07, 6.37501478e-03],\n",
              "       [1.57238270e+07, 6.88353181e-03],\n",
              "       ...,\n",
              "       [1.57257760e+07, 1.48548037e-01],\n",
              "       [1.57363990e+07, 1.64900392e-01],\n",
              "       [1.57901130e+07, 3.31932425e-01]])"
            ]
          },
          "metadata": {
            "tags": []
          },
          "execution_count": 71
        }
      ]
    }
  ]
}